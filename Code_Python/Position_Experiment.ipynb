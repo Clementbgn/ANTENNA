{
 "cells": [
  {
   "cell_type": "code",
   "execution_count": 363,
   "metadata": {},
   "outputs": [],
   "source": [
    "import math\n",
    "import datetime\n",
    "import astropy\n",
    "import numpy as np\n",
    "from astropy import units as u\n",
    "import matplotlib as mpl\n",
    "import matplotlib.pyplot as plt\n",
    "import pyorbital\n",
    "from pyorbital.orbital import Orbital\n",
    "\n",
    "from skyfield.api import EarthSatellite, Topos, load\n",
    "from skyfield.iokit import parse_tle_file\n",
    "\n",
    "from numpy import around"
   ]
  },
  {
   "cell_type": "code",
   "execution_count": 364,
   "metadata": {},
   "outputs": [],
   "source": [
    "#Location of the Antenna\n",
    "import astropy.coordinates\n",
    "\n",
    "observing_location = astropy.coordinates.EarthLocation.from_geodetic(\n",
    "    lon=2.0408534868035004*u.deg, lat=48.78798031530849*u.deg) #Localisation estaca\n"
   ]
  },
  {
   "cell_type": "code",
   "execution_count": 365,
   "metadata": {},
   "outputs": [],
   "source": [
    "#Observing date = now\n",
    "observing_date = astropy.time.Time.now()"
   ]
  },
  {
   "cell_type": "code",
   "execution_count": 366,
   "metadata": {},
   "outputs": [],
   "source": [
    "# Compute the alt/az over a 14 hour period, starting at 6PM local time,\n",
    "# with 256 equally spaced time points:\n",
    "time_grid = observing_date + np.linspace(0, 14, 256) * u.hour"
   ]
  },
  {
   "cell_type": "code",
   "execution_count": 367,
   "metadata": {},
   "outputs": [],
   "source": [
    "altaz = astropy.coordinates.AltAz(location=observing_location, obstime=time_grid) #define a frame for observation"
   ]
  },
  {
   "cell_type": "code",
   "execution_count": 368,
   "metadata": {},
   "outputs": [],
   "source": [
    "#oc_altaz = open_cluster_c[0].transform_to(altaz)\n",
    "#oc_altaz"
   ]
  },
  {
   "cell_type": "code",
   "execution_count": 369,
   "metadata": {},
   "outputs": [],
   "source": [
    "# Create a timescale and ask the current time.\n",
    "ts = load.timescale()\n",
    "t = ts.now()"
   ]
  },
  {
   "cell_type": "code",
   "execution_count": 371,
   "metadata": {},
   "outputs": [
    {
     "name": "stderr",
     "output_type": "stream",
     "text": [
      "[#################################] 100% EIRSAT1_TLE.txt\n"
     ]
    }
   ],
   "source": [
    "#Load TLE\n",
    "\n",
    "Satellite_name = \"EIRSAT1\" #Name of the satellite\n",
    "norad_id = \"58472\" #Norad Id of the satellite\n",
    "\n",
    "max_days = 2.0        # download again once 1 days old\n",
    "name = Satellite_name + '_TLE.txt'  # custom filename, not 'gp.php'\n",
    "\n",
    "path= \"./Satellite_data/\" + name #Path to load the TLE file\n",
    "\n",
    "url = \"https://celestrak.org/NORAD/elements/gp.php?CATNR=\" + norad_id + \"&FORMAT=TLE\" #Generate the url with the Sat query\n",
    "\n",
    "if not load.exists(name) or load.days_old(name) >= max_days:\n",
    "    load.download(url, filename= path) #Download the TLE text file after 2 days under Satellite_data"
   ]
  },
  {
   "cell_type": "code",
   "execution_count": null,
   "metadata": {},
   "outputs": [],
   "source": [
    "\n",
    "with load.open() as f:\n",
    "    satellites = list(parse_tle_file(f, ts))\n",
    "\n",
    "print('Loaded', len(satellites), 'satellites')"
   ]
  }
 ],
 "metadata": {
  "kernelspec": {
   "display_name": "Python 3",
   "language": "python",
   "name": "python3"
  },
  "language_info": {
   "codemirror_mode": {
    "name": "ipython",
    "version": 3
   },
   "file_extension": ".py",
   "mimetype": "text/x-python",
   "name": "python",
   "nbconvert_exporter": "python",
   "pygments_lexer": "ipython3",
   "version": "3.12.6"
  }
 },
 "nbformat": 4,
 "nbformat_minor": 2
}
