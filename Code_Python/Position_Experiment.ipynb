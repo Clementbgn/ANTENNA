{
 "cells": [
  {
   "cell_type": "code",
   "execution_count": 7,
   "metadata": {},
   "outputs": [],
   "source": [
    "# Import libraries\n",
    "from skyfield.api import EarthSatellite, Topos, load\n",
    "from skyfield.iokit import parse_tle_file\n",
    "from skyfield.api import wgs84\n",
    "\n",
    "import datetime"
   ]
  },
  {
   "cell_type": "code",
   "execution_count": 8,
   "metadata": {},
   "outputs": [],
   "source": [
    "# Create a timescale and ask the current time.\n",
    "ts = load.timescale()"
   ]
  },
  {
   "cell_type": "code",
   "execution_count": 9,
   "metadata": {},
   "outputs": [
    {
     "name": "stderr",
     "output_type": "stream",
     "text": [
      "[#################################] 100% EIRSAT1_TLE.txt\n"
     ]
    }
   ],
   "source": [
    "# Download the TLE file of a specific Sat\n",
    "\n",
    "Satellite_name = \"EIRSAT1\"  # Name of the satellite ++++ ADD INPUT AUTOMATICALLY LATER\n",
    "norad_id = \"58472\"  # Norad Id of the satellite ++++ ADD INPUT AUTOMATICALLY LATER\n",
    "\n",
    "max_days = 2.0  # download again once 1 days old\n",
    "name = Satellite_name + \"_TLE.txt\"  # custom filename, not 'gp.php'\n",
    "\n",
    "path = \"./Satellite_data/\" + name  # Path to load the TLE file\n",
    "\n",
    "url = (\n",
    "    \"https://celestrak.org/NORAD/elements/gp.php?CATNR=\" + norad_id + \"&FORMAT=TLE\"\n",
    ")  # Generate the url with the Sat query\n",
    "\n",
    "if not load.exists(name) or load.days_old(name) >= max_days:\n",
    "    load.download(\n",
    "        url, filename=path\n",
    "    )  # Download the TLE text file after 2 days under Satellite_data"
   ]
  },
  {
   "cell_type": "code",
   "execution_count": 10,
   "metadata": {},
   "outputs": [
    {
     "name": "stdout",
     "output_type": "stream",
     "text": [
      "Loaded 1 satellites\n"
     ]
    }
   ],
   "source": [
    "# Load the TLE file\n",
    "with load.open(path) as f:\n",
    "    satellites = list(parse_tle_file(f, ts))\n",
    "\n",
    "print(\"Loaded\", len(satellites), \"satellites\")"
   ]
  },
  {
   "cell_type": "code",
   "execution_count": 11,
   "metadata": {},
   "outputs": [],
   "source": [
    "# Load a specific satellite by number\n",
    "by_number = {sat.model.satnum: sat for sat in satellites}\n",
    "satellite = by_number[int(norad_id)]"
   ]
  },
  {
   "cell_type": "code",
   "execution_count": 15,
   "metadata": {},
   "outputs": [
    {
     "name": "stdout",
     "output_type": "stream",
     "text": [
      "2024 Nov 26 20:50:24 rise above 30°\n",
      "2024 Nov 26 20:51:06 culminate\n",
      "2024 Nov 26 20:51:48 set below 30°\n"
     ]
    }
   ],
   "source": [
    "# Define observation site : Here Estaca\n",
    "lat = 48.78797485885815\n",
    "long = 2.0410521528514183\n",
    "\n",
    "# Define the min elevation of the sat in the sky to detect a visibility time\n",
    "\n",
    "min_elevation = 30  # degrees\n",
    "\n",
    "# Get now as utc time\n",
    "t = ts.now()\n",
    "\n",
    "antenna_site = wgs84.latlon(\n",
    "    lat, long\n",
    ")  # position of the antenna on ground CAN BE IMPROVED BY GPS\n",
    "\n",
    "t0 = t  # Start time of the detection [now]\n",
    "t1 = t + datetime.timedelta(\n",
    "    hours=24\n",
    ")  # Addition of a Delta t to analyse for a visibility time here 24 hours\n",
    "\n",
    "t, events = satellite.find_events(\n",
    "    antenna_site, t0, t1, altitude_degrees=min_elevation\n",
    ")  # Find event for rise culminate and set below\n",
    "event_names = (\n",
    "    \"rise above \" + str(min_elevation) + \"°\",\n",
    "    \"culminate\",\n",
    "    \"set below \" + str(min_elevation) + \"°\",\n",
    ")\n",
    "for ti, event in zip(t, events):\n",
    "    name = event_names[event]\n",
    "    print(ti.utc_strftime(\"%Y %b %d %H:%M:%S\"), name)  # Print events"
   ]
  }
 ],
 "metadata": {
  "kernelspec": {
   "display_name": "Python 3",
   "language": "python",
   "name": "python3"
  },
  "language_info": {
   "codemirror_mode": {
    "name": "ipython",
    "version": 3
   },
   "file_extension": ".py",
   "mimetype": "text/x-python",
   "name": "python",
   "nbconvert_exporter": "python",
   "pygments_lexer": "ipython3",
   "version": "3.12.6"
  }
 },
 "nbformat": 4,
 "nbformat_minor": 2
}
