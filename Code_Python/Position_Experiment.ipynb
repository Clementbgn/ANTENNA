{
 "cells": [
  {
   "cell_type": "code",
   "execution_count": 2,
   "metadata": {},
   "outputs": [],
   "source": [
    "# Import libraries\n",
    "from skyfield.api import EarthSatellite, Topos, load\n",
    "from skyfield.iokit import parse_tle_file\n",
    "from skyfield.api import wgs84\n",
    "\n",
    "import datetime"
   ]
  },
  {
   "cell_type": "code",
   "execution_count": 3,
   "metadata": {},
   "outputs": [],
   "source": [
    "# Create a timescale and ask the current time.\n",
    "ts = load.timescale()"
   ]
  },
  {
   "cell_type": "code",
   "execution_count": 4,
   "metadata": {},
   "outputs": [
    {
     "name": "stderr",
     "output_type": "stream",
     "text": [
      "[#################################] 100% EIRSAT1_TLE.txt\n"
     ]
    }
   ],
   "source": [
    "# Download the TLE file of a specific Sat\n",
    "\n",
    "Satellite_name = \"EIRSAT1\"  # Name of the satellite ++++ ADD INPUT AUTOMATICALLY LATER\n",
    "norad_id = \"58472\"  # Norad Id of the satellite ++++ ADD INPUT AUTOMATICALLY LATER\n",
    "\n",
    "max_days = 2.0  # download again once 1 days old\n",
    "name = Satellite_name + \"_TLE.txt\"  # custom filename, not 'gp.php'\n",
    "\n",
    "path = \"./Satellite_data/\" + name  # Path to load the TLE file\n",
    "\n",
    "url = (\n",
    "    \"https://celestrak.org/NORAD/elements/gp.php?CATNR=\" + norad_id + \"&FORMAT=TLE\"\n",
    ")  # Generate the url with the Sat query\n",
    "\n",
    "if not load.exists(name) or load.days_old(name) >= max_days:\n",
    "    load.download(\n",
    "        url, filename=path\n",
    "    )  # Download the TLE text file after 2 days under Satellite_data"
   ]
  },
  {
   "cell_type": "code",
   "execution_count": 5,
   "metadata": {},
   "outputs": [
    {
     "name": "stdout",
     "output_type": "stream",
     "text": [
      "Loaded 1 satellites\n"
     ]
    }
   ],
   "source": [
    "# Load the TLE file\n",
    "with load.open(path) as f:\n",
    "    satellites = list(parse_tle_file(f, ts))\n",
    "\n",
    "print(\"Loaded\", len(satellites), \"satellites\")"
   ]
  },
  {
   "cell_type": "code",
   "execution_count": 6,
   "metadata": {},
   "outputs": [],
   "source": [
    "# Load a specific satellite by number\n",
    "by_number = {sat.model.satnum: sat for sat in satellites}\n",
    "satellite = by_number[int(norad_id)]"
   ]
  },
  {
   "cell_type": "code",
   "execution_count": 7,
   "metadata": {},
   "outputs": [
    {
     "name": "stdout",
     "output_type": "stream",
     "text": [
      "2024 Nov 27 21:49:32 rise above 30°\n",
      "2024 Nov 27 21:50:41 culminate\n",
      "2024 Nov 27 21:51:50 set below 30°\n"
     ]
    }
   ],
   "source": [
    "# Define observation site : Here Estaca\n",
    "lat = 48.78797485885815\n",
    "long = 2.0410521528514183\n",
    "\n",
    "# Define the min elevation of the sat in the sky to detect a visibility time\n",
    "\n",
    "min_elevation = 30  # degrees\n",
    "\n",
    "# Get now as utc time\n",
    "t = ts.now()\n",
    "\n",
    "antenna_site = wgs84.latlon(\n",
    "    lat, long\n",
    ")  # position of the antenna on ground CAN BE IMPROVED BY GPS\n",
    "\n",
    "t0 = t  # Start time of the detection [now]\n",
    "t1 = t + datetime.timedelta(\n",
    "    hours=24\n",
    ")  # Addition of a Delta t to analyse for a visibility time here 24 hours\n",
    "\n",
    "t, events = satellite.find_events(\n",
    "    antenna_site, t0, t1, altitude_degrees=min_elevation\n",
    ")  # Find event for rise culminate and set below\n",
    "event_names = (\n",
    "    \"rise above \" + str(min_elevation) + \"°\",\n",
    "    \"culminate\",\n",
    "    \"set below \" + str(min_elevation) + \"°\",\n",
    ")\n",
    "for ti, event in zip(t, events):\n",
    "    name = event_names[event]\n",
    "    print(ti.utc_strftime(\"%Y %b %d %H:%M:%S\"), name)  # Print events"
   ]
  },
  {
   "cell_type": "markdown",
   "metadata": {},
   "source": [
    "# Find position of the Satellite"
   ]
  },
  {
   "cell_type": "code",
   "execution_count": 10,
   "metadata": {},
   "outputs": [
    {
     "name": "stdout",
     "output_type": "stream",
     "text": [
      "<Time tt=2460641.45440624>\n",
      "[-4874.26475979 -4180.35486271  2341.1495861 ]\n",
      "Latitude: 20deg 02' 24.3\"\n",
      "Longitude: 171deg 15' 01.1\"\n",
      "WGS84 latitude +20.0401 N longitude 171.2503 E elevation 300.0 m\n",
      "EIRSAT1 is below the horizon\n",
      "Altitude of EIRSAT1 in the sky: -53deg 48' 38.7\"\n",
      "Azimuth of EIRSAT1 in the sky: 10deg 48' 13.9\"\n",
      "Distance: 10869.6 km\n",
      "RA of EIRSAT1 in the sky: 14h 59m 19.60s\n",
      "DEC of EIRSAT1 in the sky: -12deg 54' 15.4\"\n"
     ]
    }
   ],
   "source": [
    "t = ts.now()\n",
    "print(t)#.utc_strftime(\"%Y %b %d %H:%M:%S\"))\n",
    "#geocentric position\n",
    "geocentric = satellite.at(t)\n",
    "print(geocentric.position.km)\n",
    "#Latitude Longitude of the satellite\n",
    "lat_sat, lon_sat = wgs84.latlon_of(geocentric)\n",
    "print('Latitude:', lat_sat)\n",
    "print('Longitude:', lon_sat)\n",
    "#Subpoint On map\n",
    "elevation_m = 300\n",
    "subpoint = wgs84.latlon(lat_sat.degrees, lon_sat.degrees, elevation_m)\n",
    "print(subpoint)\n",
    "\n",
    "\n",
    "#Find the relative position between the antenna and the satellite\n",
    "relative_position_satellite_antenna = satellite - antenna_site\n",
    "topocentric = relative_position_satellite_antenna.at(t)\n",
    "alt_sat, az_sat, distance_sat = topocentric.altaz()\n",
    "\n",
    "if alt_sat.degrees > 0:\n",
    "    print( Satellite_name + ' is above the horizon')\n",
    "else:\n",
    "    print( Satellite_name + ' is below the horizon')\n",
    "\n",
    "print('Altitude of ' + Satellite_name + \" in the sky:\", alt_sat)\n",
    "print('Azimuth of ' + Satellite_name + \" in the sky:\", az_sat)\n",
    "print('Distance: {:.1f} km'.format(distance_sat.km))\n",
    "\n",
    "ra_sat, dec_sat, distance_sat_radec = topocentric.radec()  # ICRF (\"J2000\")\n",
    "\n",
    "print('RA of ' + Satellite_name + \" in the sky:\", ra_sat)\n",
    "print('DEC of ' + Satellite_name + \" in the sky:\", dec_sat)"
   ]
  }
 ],
 "metadata": {
  "kernelspec": {
   "display_name": "Python 3",
   "language": "python",
   "name": "python3"
  },
  "language_info": {
   "codemirror_mode": {
    "name": "ipython",
    "version": 3
   },
   "file_extension": ".py",
   "mimetype": "text/x-python",
   "name": "python",
   "nbconvert_exporter": "python",
   "pygments_lexer": "ipython3",
   "version": "3.11.3"
  }
 },
 "nbformat": 4,
 "nbformat_minor": 2
}
